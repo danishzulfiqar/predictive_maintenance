{
 "cells": [
  {
   "cell_type": "code",
   "execution_count": 106,
   "metadata": {},
   "outputs": [],
   "source": [
    "import os\n",
    "import pandas as pd\n",
    "from datetime import datetime, timedelta, timezone\n",
    "from pymongo import MongoClient\n",
    "from bson import ObjectId\n",
    "from reportlab.lib import colors\n",
    "from reportlab.lib.pagesizes import letter\n",
    "from reportlab.platypus import SimpleDocTemplate, Paragraph, Spacer, Table, TableStyle\n",
    "from reportlab.lib.styles import getSampleStyleSheet\n",
    "from reportlab.lib.styles import getSampleStyleSheet\n",
    "import pytz\n",
    "import json\n",
    "import matplotlib.pyplot as plt\n",
    "import glob\n",
    "from keras.models import Sequential, load_model\n",
    "import numpy as np\n",
    "from keras.layers import Dense\n",
    "from sklearn.model_selection import train_test_split\n",
    "from sklearn.preprocessing import LabelEncoder, MinMaxScaler\n",
    "import keras as k\n",
    "import datetime"
   ]
  },
  {
   "cell_type": "code",
   "execution_count": 107,
   "metadata": {},
   "outputs": [],
   "source": [
    "import requests\n",
    "import shutil"
   ]
  },
  {
   "cell_type": "code",
   "execution_count": 108,
   "metadata": {},
   "outputs": [],
   "source": [
    "# Make new folder with name reading from model_data.json file\n",
    "\n",
    "# Load model_data.json file\n",
    "\n",
    "# reading from model_data.json file\n",
    "# file {\"mac\": \"08:D1:F9:A5:C8:84\"}\n",
    "\n",
    "with open('model_data.json') as json_file:\n",
    "    data = json.load(json_file)\n",
    "    mac = data['mac']\n"
   ]
  },
  {
   "cell_type": "code",
   "execution_count": 109,
   "metadata": {},
   "outputs": [
    {
     "name": "stdout",
     "output_type": "stream",
     "text": [
      "08:D1:F9:A5:C8:84\n"
     ]
    }
   ],
   "source": [
    "print(mac)"
   ]
  },
  {
   "cell_type": "code",
   "execution_count": 110,
   "metadata": {},
   "outputs": [],
   "source": [
    "mac = mac.replace(\":\", \"-\")\n",
    "\n",
    "# make folder with name of mac address\n",
    "\n",
    "# delete folder if already exist\n",
    "\n",
    "# mac/mac dir path\n",
    "\n",
    "mac_dir = mac + \"/\" + mac\n",
    "\n",
    "if os.path.exists(mac_dir):\n",
    "    shutil.rmtree(mac_dir)\n",
    "\n",
    "os.makedirs(mac_dir)\n"
   ]
  },
  {
   "cell_type": "code",
   "execution_count": 111,
   "metadata": {},
   "outputs": [
    {
     "data": {
      "text/plain": [
       "'08-D1-F9-A5-C8-84/08-D1-F9-A5-C8-84/scaler.pkl'"
      ]
     },
     "execution_count": 111,
     "metadata": {},
     "output_type": "execute_result"
    }
   ],
   "source": [
    "# copy model.h5 and scaler.pkl file from Model folder to mac folder\n",
    "\n",
    "shutil.copy('Models/model.h5', mac_dir)\n",
    "shutil.copy('Models/scaler.pkl', mac_dir)"
   ]
  },
  {
   "cell_type": "code",
   "execution_count": 112,
   "metadata": {},
   "outputs": [
    {
     "data": {
      "text/plain": [
       "'/Users/danish/Web Development/CARE/Predictive-Maintenance/ANN/Model-Training/08-D1-F9-A5-C8-84.zip'"
      ]
     },
     "execution_count": 112,
     "metadata": {},
     "output_type": "execute_result"
    }
   ],
   "source": [
    "# zip the folder\n",
    "\n",
    "shutil.make_archive(mac, 'zip', mac)\n",
    "\n"
   ]
  },
  {
   "cell_type": "code",
   "execution_count": 103,
   "metadata": {},
   "outputs": [
    {
     "name": "stdout",
     "output_type": "stream",
     "text": [
      "{'message': 'Model updated successfully with name 08-D1-F9-A5-C8-84'}\n"
     ]
    }
   ],
   "source": [
    "# send the zip file to server\n",
    "\n",
    "# API endpoint to upload model\n",
    "\n",
    "url = \"http://localhost:8000/update_model\"\n",
    "\n",
    "files = {'file': open(mac + '.zip', 'rb')}\n",
    "\n",
    "response = requests.post(url, files=files)\n",
    "\n",
    "print(response.json())"
   ]
  },
  {
   "cell_type": "code",
   "execution_count": 113,
   "metadata": {},
   "outputs": [],
   "source": [
    "# remove zip file and folder\n",
    "\n",
    "os.remove(mac + '.zip')\n",
    "\n",
    "shutil.rmtree(mac)"
   ]
  }
 ],
 "metadata": {
  "kernelspec": {
   "display_name": "base",
   "language": "python",
   "name": "python3"
  },
  "language_info": {
   "codemirror_mode": {
    "name": "ipython",
    "version": 3
   },
   "file_extension": ".py",
   "mimetype": "text/x-python",
   "name": "python",
   "nbconvert_exporter": "python",
   "pygments_lexer": "ipython3",
   "version": "3.10.14"
  }
 },
 "nbformat": 4,
 "nbformat_minor": 2
}
